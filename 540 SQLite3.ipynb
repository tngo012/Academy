{
 "cells": [
  {
   "cell_type": "markdown",
   "metadata": {},
   "source": [
    "### BELLEVUE UNIVERSITY\n",
    "### DSC-540 Data Preparation\n",
    "### Name: Tai Ngo\n",
    "### Date: 5/26/2020\n",
    "\n",
    "### Week 11 & 12 Exercises"
   ]
  },
  {
   "cell_type": "markdown",
   "metadata": {},
   "source": [
    "#### Connect to the supplied petsDB\n",
    "#### Write a function to check if the connection is done"
   ]
  },
  {
   "cell_type": "code",
   "execution_count": 2,
   "metadata": {},
   "outputs": [],
   "source": [
    "# import library\n",
    "import sqlite3"
   ]
  },
  {
   "cell_type": "code",
   "execution_count": 3,
   "metadata": {},
   "outputs": [],
   "source": [
    "conn = sqlite3.connect('petsdb')"
   ]
  },
  {
   "cell_type": "code",
   "execution_count": 4,
   "metadata": {},
   "outputs": [],
   "source": [
    "# write a function to check if the connection is working\n",
    "def is_opened(conn):\n",
    "    try:\n",
    "        conn.execute(\"SELECT * FROM persons LIMIT 1\")\n",
    "        return True\n",
    "    except sqlite3.ProgrammingError as e:\n",
    "        print('Connection failed {}'.format(e))\n",
    "        return False"
   ]
  },
  {
   "cell_type": "code",
   "execution_count": 5,
   "metadata": {},
   "outputs": [
    {
     "name": "stdout",
     "output_type": "stream",
     "text": [
      "True\n"
     ]
    }
   ],
   "source": [
    "print(is_opened(conn))"
   ]
  },
  {
   "cell_type": "code",
   "execution_count": 6,
   "metadata": {},
   "outputs": [],
   "source": [
    "conn.close()"
   ]
  },
  {
   "cell_type": "code",
   "execution_count": 7,
   "metadata": {},
   "outputs": [
    {
     "name": "stdout",
     "output_type": "stream",
     "text": [
      "Connection failed Cannot operate on a closed database.\n",
      "False\n"
     ]
    }
   ],
   "source": [
    "print(is_opened(conn))"
   ]
  },
  {
   "cell_type": "markdown",
   "metadata": {},
   "source": [
    "#### Show different age groups in the persons database"
   ]
  },
  {
   "cell_type": "code",
   "execution_count": 8,
   "metadata": {},
   "outputs": [],
   "source": [
    "conn = sqlite3.connect('petsdb')"
   ]
  },
  {
   "cell_type": "code",
   "execution_count": 9,
   "metadata": {},
   "outputs": [],
   "source": [
    "c = conn.cursor()"
   ]
  },
  {
   "cell_type": "code",
   "execution_count": 10,
   "metadata": {},
   "outputs": [
    {
     "name": "stdout",
     "output_type": "stream",
     "text": [
      "We have 2 people age 5\n",
      "We have 1 people age 6\n",
      "We have 1 people age 7\n",
      "We have 3 people age 8\n",
      "We have 1 people age 9\n",
      "We have 2 people age 11\n",
      "We have 3 people age 12\n",
      "We have 1 people age 13\n",
      "We have 4 people age 14\n",
      "We have 2 people age 16\n",
      "We have 2 people age 17\n",
      "We have 3 people age 18\n",
      "We have 1 people age 19\n",
      "We have 3 people age 22\n",
      "We have 2 people age 23\n",
      "We have 3 people age 24\n",
      "We have 2 people age 25\n",
      "We have 1 people age 27\n",
      "We have 1 people age 30\n",
      "We have 3 people age 31\n",
      "We have 1 people age 32\n",
      "We have 1 people age 33\n",
      "We have 2 people age 34\n",
      "We have 3 people age 35\n",
      "We have 3 people age 36\n",
      "We have 1 people age 37\n",
      "We have 2 people age 39\n",
      "We have 1 people age 40\n",
      "We have 1 people age 42\n",
      "We have 2 people age 44\n",
      "We have 2 people age 48\n",
      "We have 1 people age 49\n",
      "We have 1 people age 50\n",
      "We have 2 people age 51\n",
      "We have 2 people age 52\n",
      "We have 2 people age 53\n",
      "We have 2 people age 54\n",
      "We have 1 people age 58\n",
      "We have 1 people age 59\n",
      "We have 1 people age 60\n",
      "We have 1 people age 61\n",
      "We have 2 people age 62\n",
      "We have 1 people age 63\n",
      "We have 2 people age 65\n",
      "We have 2 people age 66\n",
      "We have 1 people age 67\n",
      "We have 3 people age 68\n",
      "We have 1 people age 69\n",
      "We have 1 people age 70\n",
      "We have 4 people age 71\n",
      "We have 1 people age 72\n",
      "We have 5 people age 73\n",
      "We have 3 people age 74\n"
     ]
    }
   ],
   "source": [
    "for ppl, age in c.execute('SELECT count(*), age FROM persons GROUP BY age'):\n",
    "    print('We have {} people age {}'.format(ppl, age))"
   ]
  },
  {
   "cell_type": "markdown",
   "metadata": {},
   "source": [
    "#### Show the age group that has the maximum number of people"
   ]
  },
  {
   "cell_type": "code",
   "execution_count": 11,
   "metadata": {},
   "outputs": [
    {
     "name": "stdout",
     "output_type": "stream",
     "text": [
      "Highest number of people 5 came from 73 age group\n"
     ]
    }
   ],
   "source": [
    "for ppl, age in c.execute('SELECT count(*), age FROM persons GROUP BY age ORDER BY count(*) DESC'):\n",
    "    print('Highest number of people {} came from {} age group'.format(ppl, age))\n",
    "    break"
   ]
  },
  {
   "cell_type": "markdown",
   "metadata": {},
   "source": [
    "#### Show the number of people who do not have full name in the database"
   ]
  },
  {
   "cell_type": "code",
   "execution_count": 13,
   "metadata": {},
   "outputs": [
    {
     "name": "stdout",
     "output_type": "stream",
     "text": [
      "(60,)\n"
     ]
    }
   ],
   "source": [
    "res = c.execute('SELECT count(*) FROM persons WHERE last_name IS null')\n",
    "for row in res:\n",
    "    print(row)"
   ]
  },
  {
   "cell_type": "markdown",
   "metadata": {},
   "source": [
    "#### Show the number of people who have more than one pet"
   ]
  },
  {
   "cell_type": "code",
   "execution_count": 16,
   "metadata": {},
   "outputs": [
    {
     "name": "stdout",
     "output_type": "stream",
     "text": [
      "There are 43 people that have more than one pet.\n"
     ]
    }
   ],
   "source": [
    "res = c.execute('SELECT count(*) FROM (SELECT count(owner_id) FROM pets GROUP BY owner_id HAVING count(owner_id) > 1)')\n",
    "for row in res:\n",
    "    print('There are {} people that have more than one pet.'.format(row[0]))"
   ]
  },
  {
   "cell_type": "markdown",
   "metadata": {},
   "source": [
    "#### Show the number of pets that have received treatments"
   ]
  },
  {
   "cell_type": "code",
   "execution_count": 17,
   "metadata": {},
   "outputs": [
    {
     "name": "stdout",
     "output_type": "stream",
     "text": [
      "(36,)\n"
     ]
    }
   ],
   "source": [
    "res = c.execute('SELECT count(*) FROM pets WHERE treatment_done=1')\n",
    "for row in res:\n",
    "    print(row)"
   ]
  },
  {
   "cell_type": "markdown",
   "metadata": {},
   "source": [
    "#### Show the number of pets that have received treatments and we know the type of"
   ]
  },
  {
   "cell_type": "code",
   "execution_count": 19,
   "metadata": {},
   "outputs": [
    {
     "name": "stdout",
     "output_type": "stream",
     "text": [
      "(16,)\n"
     ]
    }
   ],
   "source": [
    "res = c.execute('SELECT count(*) FROM pets WHERE treatment_done=1 AND pet_type IS NOT null')\n",
    "for row in res:\n",
    "    print(row)"
   ]
  },
  {
   "cell_type": "markdown",
   "metadata": {},
   "source": [
    "#### The number of pets from the city called \"east port\""
   ]
  },
  {
   "cell_type": "code",
   "execution_count": 22,
   "metadata": {},
   "outputs": [
    {
     "name": "stdout",
     "output_type": "stream",
     "text": [
      "(49,)\n"
     ]
    }
   ],
   "source": [
    "res = c.execute('SELECT count(*) FROM pets JOIN persons ON pets.owner_id = persons.id WHERE persons.city = \"east port\"')\n",
    "for row in res:\n",
    "    print(row)"
   ]
  },
  {
   "cell_type": "markdown",
   "metadata": {},
   "source": [
    "#### The number of pets from the city called \"east port\" that received a treatment"
   ]
  },
  {
   "cell_type": "code",
   "execution_count": 25,
   "metadata": {},
   "outputs": [
    {
     "name": "stdout",
     "output_type": "stream",
     "text": [
      "(11,)\n"
     ]
    }
   ],
   "source": [
    "res = c.execute('SELECT count(*) FROM pets JOIN persons ON pets.owner_id = persons.id WHERE persons.city = \"east port\" AND pets.treatment_done = 1')\n",
    "for row in res:\n",
    "    print(row)"
   ]
  }
 ],
 "metadata": {
  "kernelspec": {
   "display_name": "Python 3",
   "language": "python",
   "name": "python3"
  },
  "language_info": {
   "codemirror_mode": {
    "name": "ipython",
    "version": 3
   },
   "file_extension": ".py",
   "mimetype": "text/x-python",
   "name": "python",
   "nbconvert_exporter": "python",
   "pygments_lexer": "ipython3",
   "version": "3.7.6"
  }
 },
 "nbformat": 4,
 "nbformat_minor": 4
}
